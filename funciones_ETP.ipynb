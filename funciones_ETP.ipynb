{
 "cells": [
  {
   "cell_type": "markdown",
   "metadata": {},
   "source": [
    "_Autor:_    __Jesús Casado__ <br> _Revisión:_ __5/11/2019__ <br>\n",
    "\n",
    "__Introducción__<br>\n",
    "\n",
    "\n",
    "__Cosas que arreglar__ <br>\n",
    "\n",
    "***\n",
    "\n",
    "__Índice__ <br>"
   ]
  },
  {
   "cell_type": "code",
   "execution_count": 1,
   "metadata": {},
   "outputs": [],
   "source": [
    "import numpy as np\n",
    "import pandas as pd\n",
    "import datetime\n",
    "import os\n",
    "import pyeto"
   ]
  },
  {
   "cell_type": "code",
   "execution_count": 2,
   "metadata": {},
   "outputs": [],
   "source": [
    "def hargreaves_samani(tmin, tmax, tmed, lat, date):\n",
    "    \"\"\"Evapotranspiración potencial (mm) por el método de Hargreaves-Samani.\n",
    "    \n",
    "    Entradas:\n",
    "    ---------\n",
    "    tmin:    float. Temperatura mínima del día\n",
    "    tmax:    float. Temperatura máxima del día\n",
    "    tmed:    float. Temperatura media del día\n",
    "    lat:     float. Latitud del punto (º)\n",
    "    date:    datetime date. Fecha\n",
    "    \n",
    "    Salidas:\n",
    "    --------\n",
    "    etp:     float. Evapotranspiración potencial (mm)\"\"\"\n",
    "\n",
    "    # RADIACIÓN EXTRATERRESTRE\n",
    "    # día del año\n",
    "    doy = date.timetuple().tm_yday\n",
    "    # declinación solar\n",
    "    sol_dec = pyeto.sol_dec(doy)\n",
    "    # inverso de la distancia Tierra-Sol\n",
    "    ird = pyeto.inv_rel_dist_earth_sun(doy)\n",
    "    # latitud en radianes\n",
    "    lat = pyeto.deg2rad(lat)\n",
    "    # ángulo en la hora del atardecer\n",
    "    sha = pyeto.sunset_hour_angle(lat, sol_dec)\n",
    "    # radiación extraterrestre\n",
    "    et_rad = pyeto.et_rad(lat, sol_dec, sha, ird)\n",
    "    \n",
    "    \n",
    "    # EVAPOTRANSPIRACIÓN POTENCIAL\n",
    "    etp = pyeto.hargreaves(tmin, tmax, tmed, et_rad)\n",
    "    \n",
    "    return etp"
   ]
  },
  {
   "cell_type": "code",
   "execution_count": null,
   "metadata": {},
   "outputs": [],
   "source": []
  },
  {
   "cell_type": "code",
   "execution_count": null,
   "metadata": {},
   "outputs": [],
   "source": []
  },
  {
   "cell_type": "code",
   "execution_count": null,
   "metadata": {},
   "outputs": [],
   "source": []
  }
 ],
 "metadata": {
  "kernelspec": {
   "display_name": "Python 3",
   "language": "python",
   "name": "python3"
  },
  "language_info": {
   "codemirror_mode": {
    "name": "ipython",
    "version": 3
   },
   "file_extension": ".py",
   "mimetype": "text/x-python",
   "name": "python",
   "nbconvert_exporter": "python",
   "pygments_lexer": "ipython3",
   "version": "3.7.7"
  },
  "varInspector": {
   "cols": {
    "lenName": 16,
    "lenType": 16,
    "lenVar": 40
   },
   "kernels_config": {
    "python": {
     "delete_cmd_postfix": "",
     "delete_cmd_prefix": "del ",
     "library": "var_list.py",
     "varRefreshCmd": "print(var_dic_list())"
    },
    "r": {
     "delete_cmd_postfix": ") ",
     "delete_cmd_prefix": "rm(",
     "library": "var_list.r",
     "varRefreshCmd": "cat(var_dic_list()) "
    }
   },
   "types_to_exclude": [
    "module",
    "function",
    "builtin_function_or_method",
    "instance",
    "_Feature"
   ],
   "window_display": false
  }
 },
 "nbformat": 4,
 "nbformat_minor": 4
}
